{
 "cells": [
  {
   "cell_type": "markdown",
   "metadata": {},
   "source": [
    "# Demo Chi-square test"
   ]
  },
  {
   "cell_type": "code",
   "execution_count": 10,
   "metadata": {},
   "outputs": [],
   "source": [
    "import pandas as pd\n",
    "import numpy as np\n",
    "from scipy import stats"
   ]
  },
  {
   "cell_type": "markdown",
   "metadata": {},
   "source": [
    "### test demo 0"
   ]
  },
  {
   "cell_type": "code",
   "execution_count": 19,
   "metadata": {},
   "outputs": [
    {
     "name": "stdout",
     "output_type": "stream",
     "text": [
      "   ED  IPD\n",
      "0  10   30\n",
      "1  45    4\n",
      "2   5   20\n",
      "[[10 45  5]\n",
      " [30  4 20]]\n",
      "<class 'numpy.ndarray'>\n"
     ]
    }
   ],
   "source": [
    "data =  {\n",
    "    \"ED\" : [10, 45, 5],\n",
    "    \"IPD\": [30, 4, 20]\n",
    "}\n",
    "\n",
    "df = pd.DataFrame(data)\n",
    "print(df) \n",
    "df_arr = df.to_numpy()\n",
    "print(df_arr.transpose())\n",
    "print(type(df_arr))"
   ]
  },
  {
   "cell_type": "code",
   "execution_count": 20,
   "metadata": {},
   "outputs": [],
   "source": [
    "def demo_transform(dataframe: pd.DataFrame) -> np.ndarray: \n",
    "    return dataframe.to_numpy().transpose()"
   ]
  },
  {
   "cell_type": "code",
   "execution_count": 17,
   "metadata": {},
   "outputs": [],
   "source": [
    "def evaluate_pvalue(pvalue: float, alpha=0.05) -> str:\n",
    "    return \"Dependent (reject H0)\" if pvalue <= alpha else \"Independent (H0 holds true)\""
   ]
  },
  {
   "cell_type": "code",
   "execution_count": 18,
   "metadata": {},
   "outputs": [
    {
     "name": "stdout",
     "output_type": "stream",
     "text": [
      "Chi2ContingencyResult(statistic=np.float64(53.137528344671196), pvalue=np.float64(2.8928927226028307e-12), dof=2, expected_freq=array([[21.05263158, 25.78947368, 13.15789474],\n",
      "       [18.94736842, 23.21052632, 11.84210526]]))\n",
      "pvalue: 2.8928927226028307e-12\n",
      "Dependent (reject H0)\n"
     ]
    }
   ],
   "source": [
    "data = df_arr.transpose()\n",
    "results = stats.chi2_contingency(data)\n",
    "print(results)\n",
    "pvalue_result = results.pvalue\n",
    "print(\"pvalue:\",pvalue_result)\n",
    "print(evaluate_pvalue(pvalue_result))"
   ]
  },
  {
   "cell_type": "markdown",
   "metadata": {},
   "source": [
    "### test demo 1"
   ]
  },
  {
   "cell_type": "code",
   "execution_count": 22,
   "metadata": {},
   "outputs": [
    {
     "name": "stdout",
     "output_type": "stream",
     "text": [
      "Chi2ContingencyResult(statistic=np.float64(1.277890466531441), pvalue=np.float64(0.5278488879693956), dof=2, expected_freq=array([[18.41269841,  3.68253968,  6.9047619 ],\n",
      "       [21.58730159,  4.31746032,  8.0952381 ]]))\n",
      "pvalue: 0.5278488879693956\n",
      "Independent (H0 holds true)\n"
     ]
    }
   ],
   "source": [
    "data =  {\n",
    "    \"ED\" : [20, 4, 5],\n",
    "    \"IPD\": [20, 4, 10]\n",
    "}\n",
    "df = pd.DataFrame(data)\n",
    "data_arr = demo_transform(df)\n",
    "\n",
    "results = stats.chi2_contingency(data_arr)\n",
    "print(results)\n",
    "pvalue_result = results.pvalue\n",
    "print(\"pvalue:\",pvalue_result)\n",
    "print(evaluate_pvalue(pvalue_result))"
   ]
  },
  {
   "cell_type": "markdown",
   "metadata": {},
   "source": [
    "### test demo 2"
   ]
  },
  {
   "cell_type": "code",
   "execution_count": 23,
   "metadata": {},
   "outputs": [
    {
     "name": "stdout",
     "output_type": "stream",
     "text": [
      "Chi2ContingencyResult(statistic=np.float64(46.754317111459976), pvalue=np.float64(7.037672236043776e-11), dof=2, expected_freq=array([[ 8.48484848,  4.24242424, 22.27272727],\n",
      "       [31.51515152, 15.75757576, 82.72727273]]))\n",
      "pvalue: 7.037672236043776e-11\n",
      "Dependent (reject H0)\n"
     ]
    }
   ],
   "source": [
    "data =  {\n",
    "    \"ED\" : [20, 10, 5],\n",
    "    \"IPD\": [20, 10, 100]\n",
    "}\n",
    "df = pd.DataFrame(data)\n",
    "data_arr = demo_transform(df)\n",
    "\n",
    "results = stats.chi2_contingency(data_arr)\n",
    "print(results)\n",
    "pvalue_result = results.pvalue\n",
    "print(\"pvalue:\",pvalue_result)\n",
    "print(evaluate_pvalue(pvalue_result))"
   ]
  },
  {
   "cell_type": "markdown",
   "metadata": {},
   "source": [
    "# demo with real data sample"
   ]
  },
  {
   "cell_type": "code",
   "execution_count": 69,
   "metadata": {},
   "outputs": [],
   "source": [
    "# import\n",
    "diagnosis_df = pd.read_csv(\"./data/diagnosis.csv\") #ED\n",
    "diagnosis_icd_df = pd.read_csv(\"./data/diagnoses_icd.csv\") #IPD"
   ]
  },
  {
   "cell_type": "code",
   "execution_count": 70,
   "metadata": {},
   "outputs": [
    {
     "data": {
      "text/html": [
       "<div>\n",
       "<style scoped>\n",
       "    .dataframe tbody tr th:only-of-type {\n",
       "        vertical-align: middle;\n",
       "    }\n",
       "\n",
       "    .dataframe tbody tr th {\n",
       "        vertical-align: top;\n",
       "    }\n",
       "\n",
       "    .dataframe thead th {\n",
       "        text-align: right;\n",
       "    }\n",
       "</style>\n",
       "<table border=\"1\" class=\"dataframe\">\n",
       "  <thead>\n",
       "    <tr style=\"text-align: right;\">\n",
       "      <th></th>\n",
       "      <th>icd_code</th>\n",
       "    </tr>\n",
       "  </thead>\n",
       "  <tbody>\n",
       "    <tr>\n",
       "      <th>0</th>\n",
       "      <td>486</td>\n",
       "    </tr>\n",
       "    <tr>\n",
       "      <th>1</th>\n",
       "      <td>4254</td>\n",
       "    </tr>\n",
       "    <tr>\n",
       "      <th>2</th>\n",
       "      <td>5609</td>\n",
       "    </tr>\n",
       "    <tr>\n",
       "      <th>3</th>\n",
       "      <td>49392</td>\n",
       "    </tr>\n",
       "    <tr>\n",
       "      <th>4</th>\n",
       "      <td>7842</td>\n",
       "    </tr>\n",
       "    <tr>\n",
       "      <th>...</th>\n",
       "      <td>...</td>\n",
       "    </tr>\n",
       "    <tr>\n",
       "      <th>95</th>\n",
       "      <td>5770</td>\n",
       "    </tr>\n",
       "    <tr>\n",
       "      <th>96</th>\n",
       "      <td>5750</td>\n",
       "    </tr>\n",
       "    <tr>\n",
       "      <th>97</th>\n",
       "      <td>30500</td>\n",
       "    </tr>\n",
       "    <tr>\n",
       "      <th>98</th>\n",
       "      <td>29630</td>\n",
       "    </tr>\n",
       "    <tr>\n",
       "      <th>99</th>\n",
       "      <td>V6284</td>\n",
       "    </tr>\n",
       "  </tbody>\n",
       "</table>\n",
       "<p>100 rows × 1 columns</p>\n",
       "</div>"
      ],
      "text/plain": [
       "   icd_code\n",
       "0       486\n",
       "1      4254\n",
       "2      5609\n",
       "3     49392\n",
       "4      7842\n",
       "..      ...\n",
       "95     5770\n",
       "96     5750\n",
       "97    30500\n",
       "98    29630\n",
       "99    V6284\n",
       "\n",
       "[100 rows x 1 columns]"
      ]
     },
     "metadata": {},
     "output_type": "display_data"
    },
    {
     "data": {
      "text/html": [
       "<div>\n",
       "<style scoped>\n",
       "    .dataframe tbody tr th:only-of-type {\n",
       "        vertical-align: middle;\n",
       "    }\n",
       "\n",
       "    .dataframe tbody tr th {\n",
       "        vertical-align: top;\n",
       "    }\n",
       "\n",
       "    .dataframe thead th {\n",
       "        text-align: right;\n",
       "    }\n",
       "</style>\n",
       "<table border=\"1\" class=\"dataframe\">\n",
       "  <thead>\n",
       "    <tr style=\"text-align: right;\">\n",
       "      <th></th>\n",
       "      <th>icd_code</th>\n",
       "    </tr>\n",
       "  </thead>\n",
       "  <tbody>\n",
       "    <tr>\n",
       "      <th>0</th>\n",
       "      <td>5723</td>\n",
       "    </tr>\n",
       "    <tr>\n",
       "      <th>1</th>\n",
       "      <td>78959</td>\n",
       "    </tr>\n",
       "    <tr>\n",
       "      <th>2</th>\n",
       "      <td>5715</td>\n",
       "    </tr>\n",
       "    <tr>\n",
       "      <th>3</th>\n",
       "      <td>07070</td>\n",
       "    </tr>\n",
       "    <tr>\n",
       "      <th>4</th>\n",
       "      <td>496</td>\n",
       "    </tr>\n",
       "    <tr>\n",
       "      <th>...</th>\n",
       "      <td>...</td>\n",
       "    </tr>\n",
       "    <tr>\n",
       "      <th>95</th>\n",
       "      <td>41071</td>\n",
       "    </tr>\n",
       "    <tr>\n",
       "      <th>96</th>\n",
       "      <td>5849</td>\n",
       "    </tr>\n",
       "    <tr>\n",
       "      <th>97</th>\n",
       "      <td>2875</td>\n",
       "    </tr>\n",
       "    <tr>\n",
       "      <th>98</th>\n",
       "      <td>7802</td>\n",
       "    </tr>\n",
       "    <tr>\n",
       "      <th>99</th>\n",
       "      <td>7847</td>\n",
       "    </tr>\n",
       "  </tbody>\n",
       "</table>\n",
       "<p>100 rows × 1 columns</p>\n",
       "</div>"
      ],
      "text/plain": [
       "   icd_code\n",
       "0      5723\n",
       "1     78959\n",
       "2      5715\n",
       "3     07070\n",
       "4       496\n",
       "..      ...\n",
       "95    41071\n",
       "96     5849\n",
       "97     2875\n",
       "98     7802\n",
       "99     7847\n",
       "\n",
       "[100 rows x 1 columns]"
      ]
     },
     "metadata": {},
     "output_type": "display_data"
    }
   ],
   "source": [
    "# 100 head sample\n",
    "ED100_df = diagnosis_df.loc[:99,[\"icd_code\"]]\n",
    "IPD100_df = diagnosis_icd_df.loc[:99,[\"icd_code\"]]\n",
    "\n",
    "display(ED100_df)\n",
    "display(IPD100_df)"
   ]
  },
  {
   "cell_type": "code",
   "execution_count": 71,
   "metadata": {},
   "outputs": [
    {
     "name": "stdout",
     "output_type": "stream",
     "text": [
      "{'78959': 4, '5715': 4, '496': 4, 'V08': 3, '2761': 3, '3051': 3, 'V1582': 2, '29680': 2, 'F419': 2, 'I341': 2, 'E785': 2, '2875': 2, '2767': 2, 'V462': 2, 'F0280': 2, 'Z8546': 2, 'Z87891': 2, 'M810': 2, 'K219': 2, '5723': 1, '30981': 1, '07070': 1, '07054': 1, '78791': 1, 'G3183': 1, '30500': 1, 'V4986': 1, '7994': 1, '45829': 1, 'R4182': 1, 'R296': 1, 'R441': 1, '5283': 1, 'R609': 1, 'G20': 1, '52109': 1, 'K31819': 1, 'R0989': 1, '07044': 1, '07071': 1, 'K449': 1, 'R1310': 1, 'S72012A': 1, 'W010XXA': 1, 'Y93K1': 1, 'Y92480': 1, 'E7800': 1, 'G43909': 1, 'Z87442': 1, 'Z7901': 1, '9222': 1, '920': 1, 'E8854': 1, 'E8495': 1, '2860': 1, '2859': 1, '6820': 1, '1890': 1, 'V1201': 1, '42789': 1, '25000': 1, '4019': 1, '66401': 1, '65951': 1, '64891': 1, 'V270': 1, 'V0251': 1, '8020': 1, '41071': 1, '5849': 1, '7802': 1, '7847': 1}\n"
     ]
    }
   ],
   "source": [
    "print(IPD100_df[\"icd_code\"].value_counts().to_dict())"
   ]
  },
  {
   "cell_type": "code",
   "execution_count": 72,
   "metadata": {},
   "outputs": [
    {
     "name": "stdout",
     "output_type": "stream",
     "text": [
      "{'4019': 5, '30500': 4, '25000': 4, '486': 3, 'E9289': 3, '95901': 3, '7802': 3, '78097': 2, '78909': 2, '5856': 2, '311': 2, 'V4586': 2, 'V5861': 2, '3249': 1, '27651': 1, '6084': 1, '78079': 1, '7842': 1, '5609': 1, '49392': 1, '4254': 1, '7840': 1, '78605': 1, '87343': 1, '99673': 1, '5277': 1, '78703': 1, 'E9689': 1, '3320': 1, 'E8189': 1, '7825': 1, '8830': 1, '78650': 1, 'E9179': 1, '99674': 1, '591': 1, '25061': 1, '25011': 1, '87342': 1, '5363': 1, '30590': 1, '5939': 1, '5538': 1, '78906': 1, '5409': 1, '5259': 1, '7295': 1, '52100': 1, '79092': 1, '5920': 1, '4553': 1, '56400': 1, '78907': 1, '78791': 1, '7821': 1, '6827': 1, 'V4511': 1, '2724': 1, '5761': 1, '78060': 1, '7080': 1, '72671': 1, '59080': 1, 'E8120': 1, '55329': 1, '5990': 1, '30000': 1, '7089': 1, '9953': 1, '2989': 1, '78701': 1, '7242': 1, '5770': 1, '5750': 1, '29630': 1, 'V6284': 1}\n"
     ]
    }
   ],
   "source": [
    "print(ED100_df[\"icd_code\"].value_counts().to_dict())"
   ]
  },
  {
   "cell_type": "code",
   "execution_count": 73,
   "metadata": {},
   "outputs": [
    {
     "name": "stdout",
     "output_type": "stream",
     "text": [
      "icd_code\n",
      "496         4\n",
      "78959       4\n",
      "5715        4\n",
      "2761        3\n",
      "3051        3\n",
      "           ..\n",
      "W010XXA     1\n",
      "Y93K1       1\n",
      "Y92480      1\n",
      "Z7901       1\n",
      "Z87442      1\n",
      "Name: count, Length: 72, dtype: int64\n",
      "<class 'pandas.core.series.Series'>\n"
     ]
    }
   ],
   "source": [
    "# value_counts\n",
    "# new dataframe\n",
    "# concate\n",
    "# fill zero\n",
    "# transform\n",
    "# chisquare\n",
    "\n",
    "IPD100_df_count = IPD100_df.value_counts()\n",
    "print(IPD100_df_count)\n",
    "print(type(IPD100_df_count))"
   ]
  },
  {
   "cell_type": "code",
   "execution_count": 74,
   "metadata": {},
   "outputs": [
    {
     "data": {
      "text/html": [
       "<div>\n",
       "<style scoped>\n",
       "    .dataframe tbody tr th:only-of-type {\n",
       "        vertical-align: middle;\n",
       "    }\n",
       "\n",
       "    .dataframe tbody tr th {\n",
       "        vertical-align: top;\n",
       "    }\n",
       "\n",
       "    .dataframe thead th {\n",
       "        text-align: right;\n",
       "    }\n",
       "</style>\n",
       "<table border=\"1\" class=\"dataframe\">\n",
       "  <thead>\n",
       "    <tr style=\"text-align: right;\">\n",
       "      <th></th>\n",
       "      <th>IPD</th>\n",
       "    </tr>\n",
       "    <tr>\n",
       "      <th>icd_code</th>\n",
       "      <th></th>\n",
       "    </tr>\n",
       "  </thead>\n",
       "  <tbody>\n",
       "    <tr>\n",
       "      <th>496</th>\n",
       "      <td>4</td>\n",
       "    </tr>\n",
       "    <tr>\n",
       "      <th>78959</th>\n",
       "      <td>4</td>\n",
       "    </tr>\n",
       "    <tr>\n",
       "      <th>5715</th>\n",
       "      <td>4</td>\n",
       "    </tr>\n",
       "    <tr>\n",
       "      <th>2761</th>\n",
       "      <td>3</td>\n",
       "    </tr>\n",
       "    <tr>\n",
       "      <th>3051</th>\n",
       "      <td>3</td>\n",
       "    </tr>\n",
       "    <tr>\n",
       "      <th>...</th>\n",
       "      <td>...</td>\n",
       "    </tr>\n",
       "    <tr>\n",
       "      <th>W010XXA</th>\n",
       "      <td>1</td>\n",
       "    </tr>\n",
       "    <tr>\n",
       "      <th>Y93K1</th>\n",
       "      <td>1</td>\n",
       "    </tr>\n",
       "    <tr>\n",
       "      <th>Y92480</th>\n",
       "      <td>1</td>\n",
       "    </tr>\n",
       "    <tr>\n",
       "      <th>Z7901</th>\n",
       "      <td>1</td>\n",
       "    </tr>\n",
       "    <tr>\n",
       "      <th>Z87442</th>\n",
       "      <td>1</td>\n",
       "    </tr>\n",
       "  </tbody>\n",
       "</table>\n",
       "<p>72 rows × 1 columns</p>\n",
       "</div>"
      ],
      "text/plain": [
       "          IPD\n",
       "icd_code     \n",
       "496         4\n",
       "78959       4\n",
       "5715        4\n",
       "2761        3\n",
       "3051        3\n",
       "...       ...\n",
       "W010XXA     1\n",
       "Y93K1       1\n",
       "Y92480      1\n",
       "Z7901       1\n",
       "Z87442      1\n",
       "\n",
       "[72 rows x 1 columns]"
      ]
     },
     "metadata": {},
     "output_type": "display_data"
    }
   ],
   "source": [
    "# create dataframe\n",
    "data = {\n",
    "    \"IPD\": IPD100_df_count\n",
    "}\n",
    "\n",
    "df = pd.DataFrame(data)\n",
    "display(df)"
   ]
  },
  {
   "cell_type": "code",
   "execution_count": 79,
   "metadata": {},
   "outputs": [],
   "source": [
    "ED100_df_count = ED100_df.value_counts()\n",
    "ED100_df_dict = ED100_df_count.to_dict()\n",
    "IPD100_df_dict = IPD100_df_count.to_dict()"
   ]
  },
  {
   "cell_type": "code",
   "execution_count": 80,
   "metadata": {},
   "outputs": [
    {
     "data": {
      "text/plain": [
       "{('25000',), ('30500',), ('4019',), ('7802',), ('78791',)}"
      ]
     },
     "execution_count": 80,
     "metadata": {},
     "output_type": "execute_result"
    }
   ],
   "source": [
    "# check intersec\n",
    "ED100_df_dict.keys() & IPD100_df_dict.keys()"
   ]
  },
  {
   "cell_type": "code",
   "execution_count": 84,
   "metadata": {},
   "outputs": [
    {
     "name": "stdout",
     "output_type": "stream",
     "text": [
      "          IPD   ED\n",
      "icd_code          \n",
      "496       4.0  NaN\n",
      "78959     4.0  NaN\n",
      "5715      4.0  NaN\n",
      "2761      3.0  NaN\n",
      "3051      3.0  NaN\n",
      "...       ...  ...\n",
      "E8189     NaN  1.0\n",
      "E9689     NaN  1.0\n",
      "E9179     NaN  1.0\n",
      "V4511     NaN  1.0\n",
      "V6284     NaN  1.0\n",
      "\n",
      "[143 rows x 2 columns]\n"
     ]
    }
   ],
   "source": [
    "ED100_df_count = ED100_df_count.rename(\"ED\")\n",
    "output = pd.concat([df, ED100_df_count], axis=1, )\n",
    "print(output)"
   ]
  },
  {
   "cell_type": "code",
   "execution_count": 85,
   "metadata": {},
   "outputs": [
    {
     "data": {
      "text/html": [
       "<div>\n",
       "<style scoped>\n",
       "    .dataframe tbody tr th:only-of-type {\n",
       "        vertical-align: middle;\n",
       "    }\n",
       "\n",
       "    .dataframe tbody tr th {\n",
       "        vertical-align: top;\n",
       "    }\n",
       "\n",
       "    .dataframe thead th {\n",
       "        text-align: right;\n",
       "    }\n",
       "</style>\n",
       "<table border=\"1\" class=\"dataframe\">\n",
       "  <thead>\n",
       "    <tr style=\"text-align: right;\">\n",
       "      <th></th>\n",
       "      <th>IPD</th>\n",
       "      <th>ED</th>\n",
       "    </tr>\n",
       "    <tr>\n",
       "      <th>icd_code</th>\n",
       "      <th></th>\n",
       "      <th></th>\n",
       "    </tr>\n",
       "  </thead>\n",
       "  <tbody>\n",
       "    <tr>\n",
       "      <th>25000</th>\n",
       "      <td>1.0</td>\n",
       "      <td>4.0</td>\n",
       "    </tr>\n",
       "    <tr>\n",
       "      <th>30500</th>\n",
       "      <td>1.0</td>\n",
       "      <td>4.0</td>\n",
       "    </tr>\n",
       "    <tr>\n",
       "      <th>4019</th>\n",
       "      <td>1.0</td>\n",
       "      <td>5.0</td>\n",
       "    </tr>\n",
       "    <tr>\n",
       "      <th>7802</th>\n",
       "      <td>1.0</td>\n",
       "      <td>3.0</td>\n",
       "    </tr>\n",
       "    <tr>\n",
       "      <th>78791</th>\n",
       "      <td>1.0</td>\n",
       "      <td>1.0</td>\n",
       "    </tr>\n",
       "  </tbody>\n",
       "</table>\n",
       "</div>"
      ],
      "text/plain": [
       "          IPD   ED\n",
       "icd_code          \n",
       "25000     1.0  4.0\n",
       "30500     1.0  4.0\n",
       "4019      1.0  5.0\n",
       "7802      1.0  3.0\n",
       "78791     1.0  1.0"
      ]
     },
     "execution_count": 85,
     "metadata": {},
     "output_type": "execute_result"
    }
   ],
   "source": [
    "output.loc[[\"25000\",\"30500\",\"4019\",\"7802\",\"78791\"], :]"
   ]
  },
  {
   "cell_type": "code",
   "execution_count": 86,
   "metadata": {},
   "outputs": [
    {
     "data": {
      "text/html": [
       "<div>\n",
       "<style scoped>\n",
       "    .dataframe tbody tr th:only-of-type {\n",
       "        vertical-align: middle;\n",
       "    }\n",
       "\n",
       "    .dataframe tbody tr th {\n",
       "        vertical-align: top;\n",
       "    }\n",
       "\n",
       "    .dataframe thead th {\n",
       "        text-align: right;\n",
       "    }\n",
       "</style>\n",
       "<table border=\"1\" class=\"dataframe\">\n",
       "  <thead>\n",
       "    <tr style=\"text-align: right;\">\n",
       "      <th></th>\n",
       "      <th>IPD</th>\n",
       "      <th>ED</th>\n",
       "    </tr>\n",
       "    <tr>\n",
       "      <th>icd_code</th>\n",
       "      <th></th>\n",
       "      <th></th>\n",
       "    </tr>\n",
       "  </thead>\n",
       "  <tbody>\n",
       "    <tr>\n",
       "      <th>496</th>\n",
       "      <td>4.0</td>\n",
       "      <td>0.0</td>\n",
       "    </tr>\n",
       "    <tr>\n",
       "      <th>78959</th>\n",
       "      <td>4.0</td>\n",
       "      <td>0.0</td>\n",
       "    </tr>\n",
       "    <tr>\n",
       "      <th>5715</th>\n",
       "      <td>4.0</td>\n",
       "      <td>0.0</td>\n",
       "    </tr>\n",
       "    <tr>\n",
       "      <th>2761</th>\n",
       "      <td>3.0</td>\n",
       "      <td>0.0</td>\n",
       "    </tr>\n",
       "    <tr>\n",
       "      <th>3051</th>\n",
       "      <td>3.0</td>\n",
       "      <td>0.0</td>\n",
       "    </tr>\n",
       "    <tr>\n",
       "      <th>...</th>\n",
       "      <td>...</td>\n",
       "      <td>...</td>\n",
       "    </tr>\n",
       "    <tr>\n",
       "      <th>E8189</th>\n",
       "      <td>0.0</td>\n",
       "      <td>1.0</td>\n",
       "    </tr>\n",
       "    <tr>\n",
       "      <th>E9689</th>\n",
       "      <td>0.0</td>\n",
       "      <td>1.0</td>\n",
       "    </tr>\n",
       "    <tr>\n",
       "      <th>E9179</th>\n",
       "      <td>0.0</td>\n",
       "      <td>1.0</td>\n",
       "    </tr>\n",
       "    <tr>\n",
       "      <th>V4511</th>\n",
       "      <td>0.0</td>\n",
       "      <td>1.0</td>\n",
       "    </tr>\n",
       "    <tr>\n",
       "      <th>V6284</th>\n",
       "      <td>0.0</td>\n",
       "      <td>1.0</td>\n",
       "    </tr>\n",
       "  </tbody>\n",
       "</table>\n",
       "<p>143 rows × 2 columns</p>\n",
       "</div>"
      ],
      "text/plain": [
       "          IPD   ED\n",
       "icd_code          \n",
       "496       4.0  0.0\n",
       "78959     4.0  0.0\n",
       "5715      4.0  0.0\n",
       "2761      3.0  0.0\n",
       "3051      3.0  0.0\n",
       "...       ...  ...\n",
       "E8189     0.0  1.0\n",
       "E9689     0.0  1.0\n",
       "E9179     0.0  1.0\n",
       "V4511     0.0  1.0\n",
       "V6284     0.0  1.0\n",
       "\n",
       "[143 rows x 2 columns]"
      ]
     },
     "execution_count": 86,
     "metadata": {},
     "output_type": "execute_result"
    }
   ],
   "source": [
    "output_fillzero = output.fillna(0)\n",
    "output_fillzero"
   ]
  },
  {
   "cell_type": "code",
   "execution_count": 87,
   "metadata": {},
   "outputs": [
    {
     "name": "stdout",
     "output_type": "stream",
     "text": [
      "[[4. 4. 4. 3. 3. 3. 2. 2. 2. 2. 2. 2. 2. 2. 2. 2. 2. 2. 2. 1. 1. 1. 1. 1.\n",
      "  1. 1. 1. 1. 1. 1. 1. 1. 1. 1. 1. 1. 1. 1. 1. 1. 1. 1. 1. 1. 1. 1. 1. 1.\n",
      "  1. 1. 1. 1. 1. 1. 1. 1. 1. 1. 1. 1. 1. 1. 1. 1. 1. 1. 1. 1. 1. 1. 1. 1.\n",
      "  0. 0. 0. 0. 0. 0. 0. 0. 0. 0. 0. 0. 0. 0. 0. 0. 0. 0. 0. 0. 0. 0. 0. 0.\n",
      "  0. 0. 0. 0. 0. 0. 0. 0. 0. 0. 0. 0. 0. 0. 0. 0. 0. 0. 0. 0. 0. 0. 0. 0.\n",
      "  0. 0. 0. 0. 0. 0. 0. 0. 0. 0. 0. 0. 0. 0. 0. 0. 0. 0. 0. 0. 0. 0. 0.]\n",
      " [0. 0. 0. 0. 0. 0. 0. 0. 0. 0. 0. 0. 0. 0. 0. 0. 0. 0. 0. 4. 0. 0. 0. 0.\n",
      "  0. 0. 0. 0. 0. 3. 0. 4. 5. 0. 0. 0. 0. 0. 0. 0. 0. 0. 0. 0. 0. 0. 0. 1.\n",
      "  0. 0. 0. 0. 0. 0. 0. 0. 0. 0. 0. 0. 0. 0. 0. 0. 0. 0. 0. 0. 0. 0. 0. 0.\n",
      "  3. 3. 3. 2. 2. 2. 2. 2. 2. 1. 1. 1. 1. 1. 1. 1. 1. 1. 1. 1. 1. 1. 1. 1.\n",
      "  1. 1. 1. 1. 1. 1. 1. 1. 1. 1. 1. 1. 1. 1. 1. 1. 1. 1. 1. 1. 1. 1. 1. 1.\n",
      "  1. 1. 1. 1. 1. 1. 1. 1. 1. 1. 1. 1. 1. 1. 1. 1. 1. 1. 1. 1. 1. 1. 1.]]\n"
     ]
    }
   ],
   "source": [
    "transformed_data = demo_transform(output_fillzero)\n",
    "print(transformed_data)"
   ]
  },
  {
   "cell_type": "code",
   "execution_count": 89,
   "metadata": {},
   "outputs": [
    {
     "name": "stdout",
     "output_type": "stream",
     "text": [
      "pvalue: 0.008570772774445887\n",
      "Dependent (reject H0)\n"
     ]
    }
   ],
   "source": [
    "results = stats.chi2_contingency(transformed_data)\n",
    "# print(results)\n",
    "pvalue_result = results.pvalue\n",
    "print(\"pvalue:\",pvalue_result)\n",
    "print(evaluate_pvalue(pvalue_result))"
   ]
  },
  {
   "cell_type": "code",
   "execution_count": null,
   "metadata": {},
   "outputs": [],
   "source": []
  }
 ],
 "metadata": {
  "kernelspec": {
   "display_name": "venv",
   "language": "python",
   "name": "python3"
  },
  "language_info": {
   "codemirror_mode": {
    "name": "ipython",
    "version": 3
   },
   "file_extension": ".py",
   "mimetype": "text/x-python",
   "name": "python",
   "nbconvert_exporter": "python",
   "pygments_lexer": "ipython3",
   "version": "3.10.11"
  }
 },
 "nbformat": 4,
 "nbformat_minor": 2
}
